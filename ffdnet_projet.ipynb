{
  "nbformat": 4,
  "nbformat_minor": 0,
  "metadata": {
    "kernelspec": {
      "display_name": "Python 3",
      "language": "python",
      "name": "python3"
    },
    "language_info": {
      "codemirror_mode": {
        "name": "ipython",
        "version": 2
      },
      "file_extension": ".py",
      "mimetype": "text/x-python",
      "name": "python",
      "nbconvert_exporter": "python",
      "pygments_lexer": "ipython2",
      "version": "2.7.6"
    },
    "colab": {
      "name": "ffdnet_projet.ipynb",
      "provenance": [],
      "toc_visible": true,
      "include_colab_link": true
    },
    "accelerator": "GPU"
  },
  "cells": [
    {
      "cell_type": "markdown",
      "metadata": {
        "id": "view-in-github",
        "colab_type": "text"
      },
      "source": [
        "<a href=\"https://colab.research.google.com/github/emanueledalsasso/FFDNet_projet/blob/master/ffdnet_projet.ipynb\" target=\"_parent\"><img src=\"https://colab.research.google.com/assets/colab-badge.svg\" alt=\"Open In Colab\"/></a>"
      ]
    },
    {
      "cell_type": "markdown",
      "metadata": {
        "collapsed": false,
        "id": "3rfKGPGv7Gq0",
        "colab_type": "text"
      },
      "source": [
        "# 0. Imports requirements\n",
        "Allow GPU by *Execution - Modify execution type - GPU*"
      ]
    },
    {
      "cell_type": "code",
      "metadata": {
        "pycharm": {
          "name": "#%%\n"
        },
        "id": "soYzFIy57Gq4",
        "colab_type": "code",
        "colab": {}
      },
      "source": [
        "from google.colab import drive\n",
        "import os, glob\n",
        "import numpy as np\n",
        "import matplotlib.pyplot as plt\n",
        "from PIL import Image\n",
        "from glob import glob\n",
        "from skimage.metrics import structural_similarity as ssim\n",
        "import cv2\n"
      ],
      "execution_count": 0,
      "outputs": []
    },
    {
      "cell_type": "markdown",
      "metadata": {
        "collapsed": false,
        "id": "aFWqlcSH7Grz",
        "colab_type": "text"
      },
      "source": [
        "# 1. Run a test"
      ]
    },
    {
      "cell_type": "code",
      "metadata": {
        "pycharm": {
          "name": "#%%\n"
        },
        "id": "4INXz3I77Gr2",
        "colab_type": "code",
        "colab": {}
      },
      "source": [
        "! git clone https://github.com/emanueledalsasso/FFDNet_projet.git"
      ],
      "execution_count": 0,
      "outputs": []
    },
    {
      "cell_type": "code",
      "metadata": {
        "pycharm": {
          "name": "#%%\n"
        },
        "id": "T5PLwMraCmkZ",
        "colab_type": "code",
        "colab": {}
      },
      "source": [
        "! python /content/FFDNet_projet/test_ffdnet_ipol.py \\\n",
        "\t--input /content/FFDNet_projet/test/lely.png \\\n",
        "\t--noise_sigma 25 \\\n",
        "\t--add_noise True"
      ],
      "execution_count": 0,
      "outputs": []
    },
    {
      "cell_type": "markdown",
      "metadata": {
        "id": "uEIzz3fK5f-g",
        "colab_type": "text"
      },
      "source": [
        "# 2. Training"
      ]
    },
    {
      "cell_type": "markdown",
      "metadata": {
        "id": "TBKWdxH9lBX9",
        "colab_type": "text"
      },
      "source": [
        "## 1. Prepare dataset"
      ]
    },
    {
      "cell_type": "code",
      "metadata": {
        "id": "k58OY9B0lF1C",
        "colab_type": "code",
        "colab": {}
      },
      "source": [
        "! python /content/FFDNet_projet/prepare_patches.py \\\n",
        "\t--trainset_dir /content/FFDNet_projet/training/ \\\n",
        "\t--valset_dir /content/FFDNet_projet/test/ \\\n",
        "  --gray \\\n",
        "  --max_number_patches 128 # this can be suppressed, I just set it to run a quick training\n"
      ],
      "execution_count": 0,
      "outputs": []
    },
    {
      "cell_type": "code",
      "metadata": {
        "id": "IoiGU8TlhkZi",
        "colab_type": "code",
        "colab": {}
      },
      "source": [
        "drive.mount('Drive')"
      ],
      "execution_count": 0,
      "outputs": []
    },
    {
      "cell_type": "code",
      "metadata": {
        "id": "pqjfDSGE5ELw",
        "colab_type": "code",
        "colab": {}
      },
      "source": [
        "! mkdir /content/Drive/My\\ Drive/ffdnetmodel/ #network weights are stored here"
      ],
      "execution_count": 0,
      "outputs": []
    },
    {
      "cell_type": "code",
      "metadata": {
        "id": "WL0DoCtvnFHo",
        "colab_type": "code",
        "colab": {}
      },
      "source": [
        "! pip install tensorboardX"
      ],
      "execution_count": 0,
      "outputs": []
    },
    {
      "cell_type": "code",
      "metadata": {
        "id": "d4MeCrCIDCT8",
        "colab_type": "code",
        "colab": {}
      },
      "source": [
        "! python /content/FFDNet_projet/train.py \\\n",
        "\t--batch_size 128 \\\n",
        "\t--epochs 80 \\\n",
        "\t--noiseIntL 0 75 \\\n",
        "\t--val_noiseL 25 \\\n",
        "  --log_dir /content/Drive/My\\ Drive/ffdnetmodel/ \\\n",
        "  --gray"
      ],
      "execution_count": 0,
      "outputs": []
    },
    {
      "cell_type": "markdown",
      "metadata": {
        "id": "k6qRNwFsmbG6",
        "colab_type": "text"
      },
      "source": [
        "**NOTES**\n",
        "* The training process can be monitored with TensorBoard as logs get saved\n",
        "in the *log_dir* folder\n",
        "* By default, models are trained for values of noise in [0, 75] (*--noiseIntL*\n",
        "flag)\n",
        "* By default, noise added at validation is set to 20 (*--val_noiseL* flag)\n",
        "* A previous training can be resumed passing the *--resume_training* flag"
      ]
    }
  ]
}