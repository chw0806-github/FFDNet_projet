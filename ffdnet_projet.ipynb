{
  "nbformat": 4,
  "nbformat_minor": 0,
  "metadata": {
    "kernelspec": {
      "display_name": "Python 3",
      "language": "python",
      "name": "python3"
    },
    "language_info": {
      "codemirror_mode": {
        "name": "ipython",
        "version": 2
      },
      "file_extension": ".py",
      "mimetype": "text/x-python",
      "name": "python",
      "nbconvert_exporter": "python",
      "pygments_lexer": "ipython2",
      "version": "2.7.6"
    },
    "colab": {
      "name": "ffdnet_projet.ipynb",
      "provenance": [],
      "toc_visible": true,
      "include_colab_link": true
    },
    "accelerator": "GPU"
  },
  "cells": [
    {
      "cell_type": "markdown",
      "metadata": {
        "id": "view-in-github",
        "colab_type": "text"
      },
      "source": [
        "<a href=\"https://colab.research.google.com/github/emanueledalsasso/FFDNet_projet/blob/master/ffdnet_projet.ipynb\" target=\"_parent\"><img src=\"https://colab.research.google.com/assets/colab-badge.svg\" alt=\"Open In Colab\"/></a>"
      ]
    },
    {
      "cell_type": "markdown",
      "metadata": {
        "collapsed": false,
        "id": "3rfKGPGv7Gq0",
        "colab_type": "text"
      },
      "source": [
        "# 0. Imports requirements"
      ]
    },
    {
      "cell_type": "code",
      "metadata": {
        "pycharm": {
          "name": "#%%\n"
        },
        "id": "soYzFIy57Gq4",
        "colab_type": "code",
        "colab": {}
      },
      "source": [
        "from google.colab import drive\n",
        "import os, glob\n",
        "import numpy as np\n",
        "import matplotlib.pyplot as plt\n",
        "from PIL import Image\n",
        "from glob import glob\n",
        "from skimage.metrics import structural_similarity as ssim\n",
        "import cv2\n"
      ],
      "execution_count": 0,
      "outputs": []
    },
    {
      "cell_type": "markdown",
      "metadata": {
        "collapsed": false,
        "id": "aFWqlcSH7Grz",
        "colab_type": "text"
      },
      "source": [
        "# 1. Run a test"
      ]
    },
    {
      "cell_type": "code",
      "metadata": {
        "pycharm": {
          "name": "#%%\n"
        },
        "id": "4INXz3I77Gr2",
        "colab_type": "code",
        "colab": {}
      },
      "source": [
        "! git clone https://github.com/emanueledalsasso/FFDNet_projet.git"
      ],
      "execution_count": 0,
      "outputs": []
    },
    {
      "cell_type": "code",
      "metadata": {
        "pycharm": {
          "name": "#%%\n"
        },
        "id": "T5PLwMraCmkZ",
        "colab_type": "code",
        "colab": {}
      },
      "source": [
        "! python /content/FFDNet_projet/test_ffdnet_ipol.py \\\n",
        "\t--input /content/lely.png \\\n",
        "\t--noise_sigma 25 \\\n",
        "\t--add_noise True"
      ],
      "execution_count": 0,
      "outputs": []
    },
    {
      "cell_type": "markdown",
      "metadata": {
        "id": "uEIzz3fK5f-g",
        "colab_type": "text"
      },
      "source": [
        "# 2. Training"
      ]
    },
    {
      "cell_type": "code",
      "metadata": {
        "id": "IoiGU8TlhkZi",
        "colab_type": "code",
        "colab": {}
      },
      "source": [
        "drive.mount('Drive')"
      ],
      "execution_count": 0,
      "outputs": []
    },
    {
      "cell_type": "code",
      "metadata": {
        "id": "pqjfDSGE5ELw",
        "colab_type": "code",
        "colab": {}
      },
      "source": [
        "! mkdir /content/Drive/My\\ Drive/ffdnetmodel/ #network weights are stored here"
      ],
      "execution_count": 0,
      "outputs": []
    },
    {
      "cell_type": "markdown",
      "metadata": {
        "id": "4yK5CKAUDlNz",
        "colab_type": "text"
      },
      "source": [
        "If connectin is lost, the stored weights can be copied from */content/Drive/My\\ Drive/ffdnetmodel/* to */content/model_zoo*"
      ]
    },
    {
      "cell_type": "code",
      "metadata": {
        "id": "d4MeCrCIDCT8",
        "colab_type": "code",
        "colab": {}
      },
      "source": [
        "! python main_train_ffdnet.py"
      ],
      "execution_count": 0,
      "outputs": []
    },
    {
      "cell_type": "code",
      "metadata": {
        "id": "5jnknBp7Dyho",
        "colab_type": "code",
        "colab": {}
      },
      "source": [
        ""
      ],
      "execution_count": 0,
      "outputs": []
    }
  ]
}